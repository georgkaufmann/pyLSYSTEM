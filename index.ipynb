{
 "cells": [
  {
   "cell_type": "markdown",
   "id": "383108c6",
   "metadata": {},
   "source": [
    "<table>\n",
    "<tr><td><img style=\"height: 150px;\" src=\"images/geo_hydro1.jpg\"></td>\n",
    "<td bgcolor=\"#FFFFFF\">\n",
    "    <p style=\"font-size: xx-large; font-weight: 900; line-height: 100%\">pyLSYSTEM</p>\n",
    "    <p style=\"font-size: large; color: rgba(0,0,0,0.5);\"><b style=color:red;>LINDENMAYER</b> systems</p>\n",
    "    <p style=\"font-size: large; color: rgba(0,0,0,0.5);\">Georg Kaufmann</p>\n",
    "    </td>\n",
    "<td><img style=\"height: 150px;\" src=\"images/pyLSYSTEM.png\"></td>\n",
    "</tr>\n",
    "</table>\n",
    "\n",
    "----\n",
    "# `pyLSYSTEM`\n",
    "\n",
    "pyLSYSTEM, a program package for modelling **Lindenmayer** systems, a re-writing of an initial sequence following a set\n",
    "of rules."
   ]
  },
  {
   "cell_type": "markdown",
   "id": "fea533e9",
   "metadata": {},
   "source": [
    "----\n",
    "## Contents\n",
    "\n",
    "- [Introduction](xx.ipynb)\n",
    "- Cellular automaton\n",
    "    - [Cellular automaton](pyLSYSTEM_01_CellularAutomaton.ipynb)\n",
    "    - [Sierpinski Triangle](pyLSYSTEM_01_SierpinskiTriangle.ipynb)\n",
    "    - [Rule 30]\n",
    "- L-System\n",
    "    - [L-System](pyLSYSTEM_02_Intro.ipynb)\n",
    "    - [Drawing](pyLSYSTEM_02_Drawing.ipynb)\n",
    "    - [Examples without branching](pyLSYSTEM_02_Examples1.ipynb)\n",
    "    - [Examples with branching](pyLSYSTEM_02_Examples2.ipynb)\n",
    "    - [Turtle]\n",
    "        - [Turtle plotting library](pyLSYSTEM_02_turtle.ipynb)\n",
    "        - [Examples (turtle)](pyLSYSTEM_02_turtle_examples.ipynb)\n",
    "- Fractals\n",
    "    - [Fractal dimension]\n",
    "    - [Box-counting method]\n",
    "    - [Point in polygon]\n",
    "    - [Coastline paradox]\n",
    "    \n",
    "## Literature\n",
    "[Prusinkiewicz & Lindenmayer: The algorithmic beauty of plants](lit/abop.pdf)"
   ]
  },
  {
   "cell_type": "markdown",
   "id": "b9ee8777",
   "metadata": {},
   "source": [
    "----"
   ]
  }
 ],
 "metadata": {
  "kernelspec": {
   "display_name": "Python 3 (ipykernel)",
   "language": "python",
   "name": "python3"
  },
  "language_info": {
   "codemirror_mode": {
    "name": "ipython",
    "version": 3
   },
   "file_extension": ".py",
   "mimetype": "text/x-python",
   "name": "python",
   "nbconvert_exporter": "python",
   "pygments_lexer": "ipython3",
   "version": "3.11.3"
  }
 },
 "nbformat": 4,
 "nbformat_minor": 5
}
