{
 "cells": [
  {
   "cell_type": "markdown",
   "id": "ff44f0c9",
   "metadata": {},
   "source": [
    "<table>\n",
    "<tr><td><img style=\"height: 150px;\" src=\"images/geo_hydro1.jpg\"></td>\n",
    "<td bgcolor=\"#FFFFFF\">\n",
    "    <p style=\"font-size: xx-large; font-weight: 900; line-height: 100%\">pyLSYSTEM</p>\n",
    "    <p style=\"font-size: large; color: rgba(0,0,0,0.5);\"><b style=color:red;>LINDENMAYER</b> systems</p>\n",
    "    <p style=\"font-size: large; color: rgba(0,0,0,0.5);\">Georg Kaufmann</p>\n",
    "    </td>\n",
    "<td><img style=\"height: 150px;\" src=\"images/pyLSYSTEM.png\"></td>\n",
    "</tr>\n",
    "</table>"
   ]
  },
  {
   "cell_type": "markdown",
   "id": "0781f0e8",
   "metadata": {},
   "source": [
    "# Turtle\n",
    "----\n",
    "\n",
    "In this notebook, we learn to use the `turtle` library, an easy-to-use vector plotting system."
   ]
  },
  {
   "cell_type": "code",
   "execution_count": 1,
   "id": "0fdf5ba9",
   "metadata": {},
   "outputs": [],
   "source": [
    "import turtle"
   ]
  },
  {
   "cell_type": "markdown",
   "id": "0ee03a58",
   "metadata": {},
   "source": [
    "We first open a `turtle` window, then define its background color, and a title."
   ]
  },
  {
   "cell_type": "code",
   "execution_count": 2,
   "id": "3f5632e8",
   "metadata": {},
   "outputs": [],
   "source": [
    "s = turtle.getscreen()"
   ]
  },
  {
   "cell_type": "code",
   "execution_count": 3,
   "id": "3e98ef82",
   "metadata": {},
   "outputs": [],
   "source": [
    "turtle.bgcolor('lightgray')\n",
    "turtle.title('First turtle example')"
   ]
  },
  {
   "cell_type": "markdown",
   "id": "090adaa1",
   "metadata": {},
   "source": [
    "Then, we create a `turtle` object, define a pen size and a pen color."
   ]
  },
  {
   "cell_type": "code",
   "execution_count": 4,
   "id": "fafae40e",
   "metadata": {},
   "outputs": [],
   "source": [
    "t = turtle.Turtle()\n",
    "t.pensize(5)\n",
    "t.pencolor('green')"
   ]
  },
  {
   "cell_type": "markdown",
   "id": "73d1e9ce",
   "metadata": {},
   "source": [
    "----\n",
    "## `turtle` commands\n",
    "\n",
    "The turtle desktop is a a 2D canvas, with its origin at $(0,0)$. The pointer,\n",
    "the **turtle**, is initially located at this starting point, and looks into the\n",
    "initial direction, with zero and directional angle. In the default representation, \n",
    "the cursor is shown as arrow and points into the heading direction.\n",
    "\n",
    "Thus the turtle is described by its coordinates $x,y$ and the direction $\\alpha$.\n",
    "$$\n",
    "(x,y,\\alpha)\n",
    "$$\n",
    "\n",
    "The position can be checked with `position()`,  the direction with `heading()`:"
   ]
  },
  {
   "cell_type": "code",
   "execution_count": 5,
   "id": "17c0a71b",
   "metadata": {},
   "outputs": [
    {
     "name": "stdout",
     "output_type": "stream",
     "text": [
      "(0.00,0.00)\n",
      "0.0\n"
     ]
    }
   ],
   "source": [
    "print(t.position())\n",
    "print(t.heading())"
   ]
  },
  {
   "cell_type": "markdown",
   "id": "49f22907",
   "metadata": {},
   "source": [
    "----\n",
    "## Triangle\n",
    "\n",
    "We now move the turtle to create a **triangle**. Movements are given as direction and distance along direction:\n",
    "- `t.forward(length)`: Move forward by *length* \n",
    "- `t.backward(length)`: Move backward by *length*\n",
    "- `t.right(angle)`: Turn right by *angle*\n",
    "- `t.left(angle)`: Turn left by *angle*\n",
    "- `t.home()`: Go back to home position (0,0)"
   ]
  },
  {
   "cell_type": "code",
   "execution_count": 6,
   "id": "44f97e3d",
   "metadata": {},
   "outputs": [],
   "source": [
    "t.right(90)\n",
    "t.forward(100)\n",
    "t.left(90)\n",
    "t.backward(100)"
   ]
  },
  {
   "cell_type": "code",
   "execution_count": 7,
   "id": "bef76cca",
   "metadata": {},
   "outputs": [],
   "source": [
    "t.home()"
   ]
  },
  {
   "cell_type": "markdown",
   "id": "128f1681",
   "metadata": {},
   "source": [
    "Next, we clear the screen:\n",
    "- `t.clear()`\n",
    "\n",
    "\n",
    "Then we restart encapsulating the triangle moves by fill commands:\n",
    "- `t.fillcolor('red')`: Define fill color\n",
    "- `t.begin_fill()`: Start filling\n",
    "- `t.end_fill()`: Stop filling"
   ]
  },
  {
   "cell_type": "code",
   "execution_count": 8,
   "id": "35f88fa0",
   "metadata": {},
   "outputs": [],
   "source": [
    "t.clear()"
   ]
  },
  {
   "cell_type": "code",
   "execution_count": 9,
   "id": "69ff9a8d",
   "metadata": {},
   "outputs": [],
   "source": [
    "t.fillcolor('red')\n",
    "t.begin_fill()\n",
    "t.right(90)\n",
    "t.forward(100)\n",
    "t.left(90)\n",
    "t.backward(100)\n",
    "t.home()\n",
    "t.end_fill()"
   ]
  },
  {
   "cell_type": "markdown",
   "id": "ecc17e7f",
   "metadata": {},
   "source": [
    "We can stop and start drowing with:\n",
    "- `t.penup()`: Stop drawing\n",
    "- `t.pendown()`: Start drawing\n",
    "\n",
    "With \n",
    "- `t.goto(x,y)`\n",
    "\n",
    "we moved to a new position..."
   ]
  },
  {
   "cell_type": "code",
   "execution_count": 10,
   "id": "b8883d32",
   "metadata": {},
   "outputs": [],
   "source": [
    "t.penup()\n",
    "t.goto(150,150)\n",
    "t.pendown()"
   ]
  },
  {
   "cell_type": "markdown",
   "id": "2d613c2a",
   "metadata": {},
   "source": [
    "... and then draw a new triangle."
   ]
  },
  {
   "cell_type": "code",
   "execution_count": 11,
   "id": "44585c72",
   "metadata": {},
   "outputs": [],
   "source": [
    "t.right(90)\n",
    "t.forward(100)\n",
    "t.left(90)\n",
    "t.backward(100)\n",
    "t.goto(150,150)"
   ]
  },
  {
   "cell_type": "markdown",
   "id": "c39bbf27",
   "metadata": {},
   "source": [
    "----\n",
    "## FU Logo"
   ]
  },
  {
   "cell_type": "code",
   "execution_count": 12,
   "id": "9ad6315c",
   "metadata": {},
   "outputs": [],
   "source": [
    "t.home()\n",
    "t.clear()\n",
    "t.speed(2)\n",
    "# Letter F\n",
    "t.begin_fill()\n",
    "t.left(90)\n",
    "t.forward(100)\n",
    "t.right(90)\n",
    "t.forward(80)\n",
    "t.right(90)\n",
    "t.forward(20)\n",
    "t.right(90)\n",
    "t.forward(60)\n",
    "t.left(90)\n",
    "t.forward(20)\n",
    "t.left(90)\n",
    "t.forward(40)\n",
    "t.right(90)\n",
    "t.forward(20)\n",
    "t.right(90)\n",
    "t.forward(40)\n",
    "t.left(90)\n",
    "t.forward(40)\n",
    "t.right(90)\n",
    "t.forward(20)\n",
    "t.end_fill()\n",
    "\n",
    "# Letter U\n",
    "t.penup()\n",
    "t.goto(100,100)\n",
    "\n",
    "t.pendown()\n",
    "t.begin_fill()\n",
    "t.right(270)\n",
    "t.forward(100)\n",
    "t.left(90)\n",
    "t.forward(100)\n",
    "t.left(90)\n",
    "t.forward(100)\n",
    "t.left(90)\n",
    "t.forward(20)\n",
    "t.left(90)\n",
    "t.forward(80)\n",
    "t.right(90)\n",
    "t.forward(60)\n",
    "t.right(90)\n",
    "t.forward(80)\n",
    "t.left(90)\n",
    "t.forward(20)\n",
    "t.end_fill()"
   ]
  },
  {
   "cell_type": "markdown",
   "id": "233e3b3e",
   "metadata": {},
   "source": [
    "----"
   ]
  }
 ],
 "metadata": {
  "kernelspec": {
   "display_name": "Python 3 (ipykernel)",
   "language": "python",
   "name": "python3"
  },
  "language_info": {
   "codemirror_mode": {
    "name": "ipython",
    "version": 3
   },
   "file_extension": ".py",
   "mimetype": "text/x-python",
   "name": "python",
   "nbconvert_exporter": "python",
   "pygments_lexer": "ipython3",
   "version": "3.11.3"
  }
 },
 "nbformat": 4,
 "nbformat_minor": 5
}
