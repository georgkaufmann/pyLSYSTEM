{
 "cells": [
  {
   "cell_type": "markdown",
   "id": "af1d017c",
   "metadata": {},
   "source": [
    "<table>\n",
    "<tr><td><img style=\"height: 150px;\" src=\"images/geo_hydro1.jpg\"></td>\n",
    "<td bgcolor=\"#FFFFFF\">\n",
    "    <p style=\"font-size: xx-large; font-weight: 900; line-height: 100%\">pyLSYSTEM</p>\n",
    "    <p style=\"font-size: large; color: rgba(0,0,0,0.5);\"><b style=color:red;>LINDENMAYER</b> systems</p>\n",
    "    <p style=\"font-size: large; color: rgba(0,0,0,0.5);\">Georg Kaufmann</p>\n",
    "    </td>\n",
    "<td><img style=\"height: 150px;\" src=\"images/pyLSYSTEM.png\"></td>\n",
    "</tr>\n",
    "</table>"
   ]
  },
  {
   "cell_type": "markdown",
   "id": "4072bf9f",
   "metadata": {},
   "source": [
    "fehlt"
   ]
  },
  {
   "cell_type": "code",
   "execution_count": 1,
   "id": "1d60c015",
   "metadata": {},
   "outputs": [],
   "source": [
    "import turtle"
   ]
  },
  {
   "cell_type": "code",
   "execution_count": 2,
   "id": "b32565da",
   "metadata": {},
   "outputs": [],
   "source": [
    "def lsystemCreate(word, rules):\n",
    "    \"\"\"\n",
    "    Apply L-system to string in key->value dictionary\n",
    "    Input:\n",
    "    word   - input string\n",
    "    rules  - rules, with key original character, value the new sequence\n",
    "    Output:\n",
    "    newword - new string\n",
    "    \"\"\"\n",
    "    newword = ''\n",
    "    for letter in word:\n",
    "        new = rules[letter]\n",
    "        newword += new\n",
    "    return newword"
   ]
  },
  {
   "cell_type": "code",
   "execution_count": 3,
   "id": "6a80848e",
   "metadata": {},
   "outputs": [],
   "source": [
    "def lsystemIterate(axiom,rules):\n",
    "    word = axiom\n",
    "    for i in range(iter):\n",
    "        word = lsystemCreate(word, rules)\n",
    "    return word"
   ]
  },
  {
   "cell_type": "markdown",
   "id": "9071712b",
   "metadata": {},
   "source": [
    "----\n",
    "## Koch island"
   ]
  },
  {
   "cell_type": "code",
   "execution_count": 5,
   "id": "6376b195",
   "metadata": {},
   "outputs": [
    {
     "name": "stdout",
     "output_type": "stream",
     "text": [
      "F-F+F+FF-F-F+F-F-F+F+FF-F-F+F+F-F+F+FF-F-F+F+F-F+F+FF-F-F+FF-F+F+FF-F-F+F-F-F+F+FF-F-F+F-F-F+F+FF-F-F+F+F-F+F+FF-F-F+F-F-F+F+FF-F-F+F-F-F+F+FF-F-F+F+F-F+F+FF-F-F+F+F-F+F+FF-F-F+FF-F+F+FF-F-F+F-F-F+F+FF-F-F+F-F-F+F+FF-F-F+F+F-F+F+FF-F-F+F-F-F+F+FF-F-F+F-F-F+F+FF-F-F+F+F-F+F+FF-F-F+F+F-F+F+FF-F-F+FF-F+F+FF-F-F+F-F-F+F+FF-F-F+F-F-F+F+FF-F-F+F+F-F+F+FF-F-F+F-F-F+F+FF-F-F+F-F-F+F+FF-F-F+F+F-F+F+FF-F-F+F+F-F+F+FF-F-F+FF-F+F+FF-F-F+F-F-F+F+FF-F-F+F-F-F+F+FF-F-F+F+F-F+F+FF-F-F+F\n"
     ]
    }
   ],
   "source": [
    "axiom = 'F-F-F-F'\n",
    "rules = {'F': 'F-F+F+FF-F-F+F',\n",
    "         'X': 'X',\n",
    "         '[': '[',\n",
    "         ']': ']',\n",
    "         '-': '-',\n",
    "         '+': '+'}\n",
    "iter  = 2\n",
    "word  = lsystemIterate(axiom,rules)\n",
    "\n",
    "print(word)"
   ]
  },
  {
   "cell_type": "code",
   "execution_count": 6,
   "id": "6afd196d",
   "metadata": {},
   "outputs": [],
   "source": [
    "length = 5\n",
    "alpha_zero = 90\n",
    "alpha = 90"
   ]
  },
  {
   "cell_type": "code",
   "execution_count": 7,
   "id": "6c6f5d1d",
   "metadata": {},
   "outputs": [],
   "source": [
    "turtle.bgcolor('lightgray')\n",
    "turtle.title('L-system: Koch snowflake')\n",
    "t = turtle.Turtle()  # recursive turtle\n",
    "t.speed(0)  # adjust as needed (0 = fastest)\n",
    "t.left(90)\n",
    "t.clear()\n",
    "s = turtle.Screen()  # create graphics window\n",
    "s.screensize(1500, 1500)\n",
    "\n",
    "stack = []\n",
    "for command in word:\n",
    "    t.pd()\n",
    "    if command in [\"F\", \"G\", \"R\", \"L\"]:\n",
    "        t.forward(length)\n",
    "    elif command == \"f\":\n",
    "        t.pu()  # pen up - not drawing\n",
    "        t.forward(length)\n",
    "    elif command == \"+\":\n",
    "        t.right(alpha)\n",
    "    elif command == \"-\":\n",
    "        t.left(alpha)\n",
    "    elif command == \"[\":\n",
    "        stack.append((t.position(), t.heading()))\n",
    "    elif command == \"]\":\n",
    "        t.pu()  # pen up - not drawing\n",
    "        position, heading = stack.pop()\n",
    "        t.goto(position)\n",
    "        t.setheading(heading)\n"
   ]
  },
  {
   "cell_type": "markdown",
   "id": "af955bef",
   "metadata": {},
   "source": [
    "----\n",
    "## Tree\n",
    "[see also](https://github.com/ambron60/l-system-drawing)"
   ]
  },
  {
   "cell_type": "code",
   "execution_count": 8,
   "id": "73db0559",
   "metadata": {},
   "outputs": [
    {
     "name": "stdout",
     "output_type": "stream",
     "text": [
      "FFFFFFFF-[[FFFF-[[FF-[[F-[[X]+X]+F[+FX]-X]+F-[[X]+X]+F[+FX]-X]+FF[+FFF-[[X]+X]+F[+FX]-X]-F-[[X]+X]+F[+FX]-X]+FF-[[F-[[X]+X]+F[+FX]-X]+F-[[X]+X]+F[+FX]-X]+FF[+FFF-[[X]+X]+F[+FX]-X]-F-[[X]+X]+F[+FX]-X]+FFFF[+FFFFFF-[[F-[[X]+X]+F[+FX]-X]+F-[[X]+X]+F[+FX]-X]+FF[+FFF-[[X]+X]+F[+FX]-X]-F-[[X]+X]+F[+FX]-X]-FF-[[F-[[X]+X]+F[+FX]-X]+F-[[X]+X]+F[+FX]-X]+FF[+FFF-[[X]+X]+F[+FX]-X]-F-[[X]+X]+F[+FX]-X]+FFFF-[[FF-[[F-[[X]+X]+F[+FX]-X]+F-[[X]+X]+F[+FX]-X]+FF[+FFF-[[X]+X]+F[+FX]-X]-F-[[X]+X]+F[+FX]-X]+FF-[[F-[[X]+X]+F[+FX]-X]+F-[[X]+X]+F[+FX]-X]+FF[+FFF-[[X]+X]+F[+FX]-X]-F-[[X]+X]+F[+FX]-X]+FFFF[+FFFFFF-[[F-[[X]+X]+F[+FX]-X]+F-[[X]+X]+F[+FX]-X]+FF[+FFF-[[X]+X]+F[+FX]-X]-F-[[X]+X]+F[+FX]-X]-FF-[[F-[[X]+X]+F[+FX]-X]+F-[[X]+X]+F[+FX]-X]+FF[+FFF-[[X]+X]+F[+FX]-X]-F-[[X]+X]+F[+FX]-X]+FFFFFFFF[+FFFFFFFFFFFF-[[FF-[[F-[[X]+X]+F[+FX]-X]+F-[[X]+X]+F[+FX]-X]+FF[+FFF-[[X]+X]+F[+FX]-X]-F-[[X]+X]+F[+FX]-X]+FF-[[F-[[X]+X]+F[+FX]-X]+F-[[X]+X]+F[+FX]-X]+FF[+FFF-[[X]+X]+F[+FX]-X]-F-[[X]+X]+F[+FX]-X]+FFFF[+FFFFFF-[[F-[[X]+X]+F[+FX]-X]+F-[[X]+X]+F[+FX]-X]+FF[+FFF-[[X]+X]+F[+FX]-X]-F-[[X]+X]+F[+FX]-X]-FF-[[F-[[X]+X]+F[+FX]-X]+F-[[X]+X]+F[+FX]-X]+FF[+FFF-[[X]+X]+F[+FX]-X]-F-[[X]+X]+F[+FX]-X]-FFFF-[[FF-[[F-[[X]+X]+F[+FX]-X]+F-[[X]+X]+F[+FX]-X]+FF[+FFF-[[X]+X]+F[+FX]-X]-F-[[X]+X]+F[+FX]-X]+FF-[[F-[[X]+X]+F[+FX]-X]+F-[[X]+X]+F[+FX]-X]+FF[+FFF-[[X]+X]+F[+FX]-X]-F-[[X]+X]+F[+FX]-X]+FFFF[+FFFFFF-[[F-[[X]+X]+F[+FX]-X]+F-[[X]+X]+F[+FX]-X]+FF[+FFF-[[X]+X]+F[+FX]-X]-F-[[X]+X]+F[+FX]-X]-FF-[[F-[[X]+X]+F[+FX]-X]+F-[[X]+X]+F[+FX]-X]+FF[+FFF-[[X]+X]+F[+FX]-X]-F-[[X]+X]+F[+FX]-X\n"
     ]
    }
   ],
   "source": [
    "axiom = 'X'\n",
    "rules = {'F': 'FF',\n",
    "         'X': 'F-[[X]+X]+F[+FX]-X',\n",
    "         '[': '[',\n",
    "         ']': ']',\n",
    "         '-': '-',\n",
    "         '+': '+'}\n",
    "iter  = 4    \n",
    "word  = lsystemIterate(axiom,rules)\n",
    "\n",
    "print(word)"
   ]
  },
  {
   "cell_type": "code",
   "execution_count": 9,
   "id": "d625a0fc",
   "metadata": {},
   "outputs": [],
   "source": [
    "length = 5\n",
    "alpha_zero = -90\n",
    "alpha = 22.5"
   ]
  },
  {
   "cell_type": "code",
   "execution_count": 10,
   "id": "71ef69e0",
   "metadata": {},
   "outputs": [],
   "source": [
    "turtle.bgcolor('lightgray')\n",
    "turtle.title('L-system: Tree')\n",
    "\n",
    "t = turtle.Turtle()  # recursive turtle\n",
    "t.home()\n",
    "t.clear()\n",
    "t.speed(0)  # adjust as needed (0 = fastest)\n",
    "t.left(90)\n",
    "t.clear()\n",
    "s = turtle.Screen()  # create graphics window\n",
    "s.screensize(1500, 1500)\n",
    "\n",
    "stack = []\n",
    "for command in word:\n",
    "    t.pd()\n",
    "    if command in [\"F\", \"G\", \"R\", \"L\"]:\n",
    "        t.forward(length)\n",
    "    elif command == \"f\":\n",
    "        t.pu()  # pen up - not drawing\n",
    "        t.forward(length)\n",
    "    elif command == \"+\":\n",
    "        t.right(alpha)\n",
    "    elif command == \"-\":\n",
    "        t.left(alpha)\n",
    "    elif command == \"[\":\n",
    "        stack.append((t.position(), t.heading()))\n",
    "    elif command == \"]\":\n",
    "        t.pu()  # pen up - not drawing\n",
    "        position, heading = stack.pop()\n",
    "        t.goto(position)\n",
    "        t.setheading(heading)"
   ]
  },
  {
   "cell_type": "markdown",
   "id": "fd29a3a6",
   "metadata": {},
   "source": [
    "----\n",
    "## Koch snowflake"
   ]
  },
  {
   "cell_type": "code",
   "execution_count": 11,
   "id": "2f0e8979",
   "metadata": {},
   "outputs": [],
   "source": [
    "axiom = 'F++F++F'\n",
    "rules = {'F': 'F-F++F-F',\n",
    "         'X': 'X',\n",
    "         '[': '[',\n",
    "         ']': ']',\n",
    "         '-': '-',\n",
    "         '+': '+'}\n",
    "iter  = 3\n",
    "word  = lsystemIterate(axiom,rules)\n",
    "\n",
    "length = 2\n",
    "alpha_zero = -90\n",
    "alpha = 60"
   ]
  },
  {
   "cell_type": "code",
   "execution_count": 12,
   "id": "2ff30a4a",
   "metadata": {},
   "outputs": [],
   "source": [
    "turtle.bgcolor('lightgray')\n",
    "turtle.title('L-system: Tree')\n",
    "t = turtle.Turtle()  # recursive turtle\n",
    "t.speed(0)  # adjust as needed (0 = fastest)\n",
    "t.left(90)\n",
    "t.clear()\n",
    "s = turtle.Screen()  # create graphics window\n",
    "s.screensize(1500, 1500)\n",
    "\n",
    "stack = []\n",
    "for command in word:\n",
    "    t.pd()\n",
    "    if command in [\"F\", \"G\", \"R\", \"L\"]:\n",
    "        t.forward(length)\n",
    "    elif command == \"f\":\n",
    "        t.pu()  # pen up - not drawing\n",
    "        t.forward(length)\n",
    "    elif command == \"+\":\n",
    "        t.right(alpha)\n",
    "    elif command == \"-\":\n",
    "        t.left(alpha)\n",
    "    elif command == \"[\":\n",
    "        stack.append((t.position(), t.heading()))\n",
    "    elif command == \"]\":\n",
    "        t.pu()  # pen up - not drawing\n",
    "        position, heading = stack.pop()\n",
    "        t.goto(position)\n",
    "        t.setheading(heading)"
   ]
  },
  {
   "cell_type": "markdown",
   "id": "10320e36",
   "metadata": {},
   "source": [
    "----"
   ]
  },
  {
   "cell_type": "code",
   "execution_count": null,
   "id": "08f10a1f-0e6a-428b-8147-acb0566fedf0",
   "metadata": {},
   "outputs": [],
   "source": []
  }
 ],
 "metadata": {
  "kernelspec": {
   "display_name": "Python 3 (ipykernel)",
   "language": "python",
   "name": "python3"
  },
  "language_info": {
   "codemirror_mode": {
    "name": "ipython",
    "version": 3
   },
   "file_extension": ".py",
   "mimetype": "text/x-python",
   "name": "python",
   "nbconvert_exporter": "python",
   "pygments_lexer": "ipython3",
   "version": "3.11.3"
  }
 },
 "nbformat": 4,
 "nbformat_minor": 5
}
