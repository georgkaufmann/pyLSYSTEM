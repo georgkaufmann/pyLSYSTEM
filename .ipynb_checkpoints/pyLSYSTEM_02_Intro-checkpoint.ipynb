{
 "cells": [
  {
   "cell_type": "markdown",
   "id": "50b454b6",
   "metadata": {},
   "source": [
    "<table>\n",
    "<tr><td><img style=\"height: 150px;\" src=\"images/geo_hydro1.jpg\"></td>\n",
    "<td bgcolor=\"#FFFFFF\">\n",
    "    <p style=\"font-size: xx-large; font-weight: 900; line-height: 100%\">pyLSYSTEM</p>\n",
    "    <p style=\"font-size: large; color: rgba(0,0,0,0.5);\"><b style=color:red;>LINDENMAYER</b> systems</p>\n",
    "    <p style=\"font-size: large; color: rgba(0,0,0,0.5);\">Georg Kaufmann</p>\n",
    "    </td>\n",
    "<td><img style=\"height: 150px;\" src=\"images/pyLSYSTEM.png\"></td>\n",
    "</tr>\n",
    "</table>"
   ]
  },
  {
   "cell_type": "markdown",
   "id": "f4e4c7f9",
   "metadata": {},
   "source": [
    "# L-systems: Introduction\n",
    "----\n",
    "\n",
    "In this notebook, we explain the termonology of the **L system**.\n",
    "\n",
    "~~~\n",
    "From wikipedia:\n",
    "\n",
    "An L-system or Lindenmayer system is a parallel rewriting system and a type of formal grammar. An L-system consists of an alphabet of symbols that can be used to make strings, a collection of production rules that expand each symbol into some larger string of symbols, an initial \"axiom\" string from which to begin construction, and a mechanism for translating the generated strings into geometric structures. L-systems were introduced and developed in 1968 by Aristid Lindenmayer, a Hungarian theoretical biologist and botanist at the University of Utrecht.[1] Lindenmayer used L-systems to describe the behaviour of plant cells and to model the growth processes of plant development. L-systems have also been used to model the morphology of a variety of organisms[2] and can be used to generate self-similar fractals.\n",
    "~~~"
   ]
  },
  {
   "cell_type": "code",
   "execution_count": 17,
   "id": "48125697",
   "metadata": {},
   "outputs": [],
   "source": [
    "import numpy as np\n",
    "import matplotlib.pyplot as plt\n",
    "d2r = np.pi/180."
   ]
  },
  {
   "cell_type": "markdown",
   "id": "322c1185",
   "metadata": {},
   "source": [
    "The **L system** is a recursive system, which, after iterations, leads to self-similar (or fractal) behaviour.\n",
    "\n",
    "In the **L system** notation, s string of characters (word) is rewritten on each iteration according \n",
    "to some replacement rules. We therefor need a starting string, rules, and an alphabet:\n",
    "\n",
    "- An **alphabet** $V$, containing **variables** and **constants**. The former can be changed\n",
    "during iterations, the latter remain constant.\n",
    "- An **axiom** $\\omega$, the starting value.\n",
    "- A **production rule** $P$, used to change the variables during iterations steps.\n",
    "\n",
    "Summarized we use the space\n",
    "$$\n",
    "\\mathbf{G}=(V,\\omega,P)\n",
    "$$"
   ]
  },
  {
   "cell_type": "markdown",
   "id": "2d0eb1d6",
   "metadata": {},
   "source": [
    "----\n",
    "## L-System operator\n",
    "\n",
    "We first define \n",
    "- an initial word, the `axiom`,  and\n",
    "- the `rules` as key-value pair.\n",
    "\n",
    "Our example following will replace small `i` with capital `I`, and replace all\n",
    "other letters with an underscore."
   ]
  },
  {
   "cell_type": "code",
   "execution_count": 18,
   "id": "3a8e9a59-14e7-4d87-ac37-93bd09d1ea0d",
   "metadata": {
    "tags": []
   },
   "outputs": [],
   "source": [
    "axiom = 'initial'\n",
    "rules = {'i':'I', 'n':'_', 't':'_', 'a':'_', 'l':'_'}"
   ]
  },
  {
   "cell_type": "markdown",
   "id": "94f1ea38-1045-4726-a1f6-a60d2439d142",
   "metadata": {},
   "source": [
    "We then create a function `lsystemCreate`, which takes a `word` and a set of `rules`,\n",
    "then applies the `rules` to each letter of the `word` and returns the updated word\n",
    "as `newword`.\n"
   ]
  },
  {
   "cell_type": "code",
   "execution_count": 19,
   "id": "eb264284",
   "metadata": {},
   "outputs": [],
   "source": [
    "def lsystemCreate(word,rules):\n",
    "    \"\"\"\n",
    "    L-system\n",
    "    Apply rules to word, using key->value dictionary\n",
    "    Input:\n",
    "    word   - input string\n",
    "    rules  - rules, with key original character, value the new sequence\n",
    "    Output:\n",
    "    newword - new string\n",
    "    \"\"\"\n",
    "    newword = ''\n",
    "    for letter in word:\n",
    "        new = rules[letter]\n",
    "        newword += new\n",
    "    return newword"
   ]
  },
  {
   "cell_type": "code",
   "execution_count": 20,
   "id": "b5b19706-a3f0-494c-b254-189d6cdd0e13",
   "metadata": {
    "tags": []
   },
   "outputs": [
    {
     "name": "stdout",
     "output_type": "stream",
     "text": [
      "initial\n",
      "I_I_I__\n"
     ]
    }
   ],
   "source": [
    "word = axiom\n",
    "print(word)\n",
    "word = lsystemCreate(word,rules)\n",
    "print(word)"
   ]
  },
  {
   "cell_type": "markdown",
   "id": "6c8d503c-e9d5-4ea5-ba5c-3816d4fe3c93",
   "metadata": {},
   "source": [
    "works!"
   ]
  },
  {
   "cell_type": "markdown",
   "id": "6d699f61",
   "metadata": {},
   "source": [
    "----\n",
    "## Simple examples\n",
    "\n",
    "----\n",
    "### Doubling\n",
    "\n",
    "\n",
    "| start    | rule(s)      |\n",
    "|----------|:-------------|\n",
    "| A        | A: AA\n",
    "\n",
    "First 3 iterations:\n",
    "\n",
    "| n | L-system                    |\n",
    "|---|:----------------------------|\n",
    "| 0 | A\n",
    "| 1 | AA\n",
    "| 2 | AAAA\n",
    "| 3 | AAAAAAAA"
   ]
  },
  {
   "cell_type": "code",
   "execution_count": 21,
   "id": "0e38268c",
   "metadata": {},
   "outputs": [
    {
     "name": "stdout",
     "output_type": "stream",
     "text": [
      "0 A\n",
      "1 AA\n",
      "2 AAAA\n",
      "3 AAAAAAAA\n",
      "4 AAAAAAAAAAAAAAAA\n"
     ]
    }
   ],
   "source": [
    "axiom = 'A'\n",
    "rules = { 'A' : 'AA'}\n",
    "iter  = 4\n",
    "\n",
    "word = axiom\n",
    "print(0,word)\n",
    "for i in range(iter):\n",
    "    word = lsystemCreate(word, rules)\n",
    "    print(i+1,word)"
   ]
  },
  {
   "cell_type": "markdown",
   "id": "e35efdc5",
   "metadata": {},
   "source": [
    "----\n",
    "### Algae\n",
    "\n",
    "| start    | rule(s)      |\n",
    "|----------|:-------------|\n",
    "| A        | A: B         |\n",
    "|          | B: BA        |\n",
    "\n",
    "\n",
    "First 6 iterations:\n",
    "\n",
    "| n | L-system                    |\n",
    "|---|:----------------------------|\n",
    "|0  |A\n",
    "|1  |B\n",
    "|2  |BA\n",
    "|3  |BAB\n",
    "|4  |BABBA\n",
    "|5  |BABBABAB\n",
    "|6  |BABBABABBABBA"
   ]
  },
  {
   "cell_type": "code",
   "execution_count": 22,
   "id": "70c45b72",
   "metadata": {},
   "outputs": [
    {
     "name": "stdout",
     "output_type": "stream",
     "text": [
      "0 A\n",
      "1 B\n",
      "2 BA\n",
      "3 BAB\n",
      "4 BABBA\n",
      "5 BABBABAB\n",
      "6 BABBABABBABBA\n"
     ]
    }
   ],
   "source": [
    "axiom = 'A'\n",
    "rules = { 'A' : 'B',\n",
    "          'B' : 'BA'}\n",
    "iter  = 6\n",
    "\n",
    "word = axiom\n",
    "print(0,word)\n",
    "for i in range(iter):\n",
    "    word = lsystemCreate(word, rules)\n",
    "    print(i+1,word)"
   ]
  },
  {
   "cell_type": "markdown",
   "id": "ec019eb4-513d-4432-844e-a6aff98eab1f",
   "metadata": {},
   "source": [
    "----\n",
    "## Alphabet\n",
    "We shift each letter of the alphabet to ist right neighbor.\n",
    "\n",
    "Thus, if we define a sequence such as `ICH BIN EIN SATZ`, we need 26 iterations to recover the sentence."
   ]
  },
  {
   "cell_type": "code",
   "execution_count": 26,
   "id": "35204672-6055-428c-b1c3-d5d52dc3eb57",
   "metadata": {
    "tags": []
   },
   "outputs": [
    {
     "name": "stdout",
     "output_type": "stream",
     "text": [
      "0 ICH BIN EIN SATZ\n",
      "1 JDI_CJO_FJO_TBUA\n",
      "2 KEJ DKP GKP UCVB\n",
      "3 LFK_ELQ_HLQ_VDWC\n",
      "4 MGL FMR IMR WEXD\n",
      "5 NHM_GNS_JNS_XFYE\n",
      "6 OIN HOT KOT YGZF\n",
      "7 PJO_IPU_LPU_ZHAG\n",
      "8 QKP JQV MQV AIBH\n",
      "9 RLQ_KRW_NRW_BJCI\n",
      "10 SMR LSX OSX CKDJ\n",
      "11 TNS_MTY_PTY_DLEK\n",
      "12 UOT NUZ QUZ EMFL\n",
      "13 VPU_OVA_RVA_FNGM\n",
      "14 WQV PWB SWB GOHN\n",
      "15 XRW_QXC_TXC_HPIO\n",
      "16 YSX RYD UYD IQJP\n",
      "17 ZTY_SZE_VZE_JRKQ\n",
      "18 AUZ TAF WAF KSLR\n",
      "19 BVA_UBG_XBG_LTMS\n",
      "20 CWB VCH YCH MUNT\n",
      "21 DXC_WDI_ZDI_NVOU\n",
      "22 EYD XEJ AEJ OWPV\n",
      "23 FZE_YFK_BFK_PXQW\n",
      "24 GAF ZGL CGL QYRX\n",
      "25 HBG_AHM_DHM_RZSY\n",
      "26 ICH BIN EIN SATZ\n"
     ]
    }
   ],
   "source": [
    "axiom = 'ICH BIN EIN SATZ'\n",
    "rules = {'A' : 'B',\n",
    "         'B' : 'C',\n",
    "         'C' : 'D',\n",
    "         'D' : 'E',\n",
    "         'E' : 'F',\n",
    "         'F' : 'G',\n",
    "         'G' : 'H',\n",
    "         'H' : 'I',\n",
    "         'I' : 'J',\n",
    "         'J' : 'K',\n",
    "         'K' : 'L',\n",
    "         'L' : 'M',\n",
    "         'M' : 'N',\n",
    "         'N' : 'O',\n",
    "         'O' : 'P',\n",
    "         'P' : 'Q',\n",
    "         'Q' : 'R',\n",
    "         'R' : 'S',\n",
    "         'S' : 'T',\n",
    "         'T' : 'U',\n",
    "         'U' : 'V',\n",
    "         'V' : 'W',\n",
    "         'W' : 'X',\n",
    "         'X' : 'Y',\n",
    "         'Y' : 'Z',\n",
    "         'Z' : 'A',\n",
    "         ' ' : '_',\n",
    "         '_' : ' '\n",
    "        }\n",
    "iter  = 26\n",
    "\n",
    "word = axiom\n",
    "print(0,word)\n",
    "for i in range(iter):\n",
    "    word = lsystemCreate(word, rules)\n",
    "    print(i+1,word)"
   ]
  },
  {
   "cell_type": "markdown",
   "id": "26328b09",
   "metadata": {},
   "source": [
    "----\n",
    "## Literature\n",
    "\n",
    "- [L system](https://en.wikipedia.org/wiki/L-system)\n",
    "- [Trees](https://www.pythoninformer.com/generative-art/grammars/l-systems-trees/)\n",
    "- [Koch fractal](https://www.pythoninformer.com/generative-art/grammars/l-systems-koch-curve/)\n",
    "- [Barnsley fern](https://en.wikipedia.org/wiki/Barnsley_fern)\n",
    "- [L system notes](http://paulbourke.net/fractals/lsys)\n",
    "- [From simple to real -1-](https://allenpike.com/modeling-plants-with-l-systems)\n",
    "- [From simple to real -2-](https://www.csh.rit.edu/~aidan/portfolio/3DLSystems.shtml)"
   ]
  }
 ],
 "metadata": {
  "kernelspec": {
   "display_name": "Python 3 (ipykernel)",
   "language": "python",
   "name": "python3"
  },
  "language_info": {
   "codemirror_mode": {
    "name": "ipython",
    "version": 3
   },
   "file_extension": ".py",
   "mimetype": "text/x-python",
   "name": "python",
   "nbconvert_exporter": "python",
   "pygments_lexer": "ipython3",
   "version": "3.11.3"
  }
 },
 "nbformat": 4,
 "nbformat_minor": 5
}
