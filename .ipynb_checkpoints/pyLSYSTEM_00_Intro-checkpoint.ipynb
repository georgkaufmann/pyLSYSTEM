{
 "cells": [
  {
   "cell_type": "markdown",
   "id": "82c88ffc",
   "metadata": {},
   "source": [
    "<table>\n",
    "<tr><td><img style=\"height: 150px;\" src=\"images/geo_hydro1.jpg\"></td>\n",
    "<td bgcolor=\"#FFFFFF\">\n",
    "    <p style=\"font-size: xx-large; font-weight: 900; line-height: 100%\">pyLSYSTEM</p>\n",
    "    <p style=\"font-size: large; color: rgba(0,0,0,0.5);\"><b style=color:red;>LINDENMAYER</b> systems</p>\n",
    "    <p style=\"font-size: large; color: rgba(0,0,0,0.5);\">Georg Kaufmann</p>\n",
    "    </td>\n",
    "<td><img style=\"height: 150px;\" src=\"images/pyLSYSTEM.png\"></td>\n",
    "</tr>\n",
    "</table>"
   ]
  },
  {
   "cell_type": "markdown",
   "id": "4e290f08",
   "metadata": {},
   "source": [
    "# Lindenmayer systems\n",
    "----\n",
    "\n",
    "In this notebook, we start with `cellular automata`, a set of rules changing the elements of a 1D, 2D, or 3D matrix by\n",
    " a set of defined rules.\n",
    "\n",
    "We then discuss the so-called `L-systems`, named after [Aristid Lindenmayer](https://en.wikipedia.org/wiki/Aristid_Lindenmayer), \n",
    "an Hungarian biologist.\n",
    "\n",
    "He developed the formal grammar for `L systems`, a parallel re-writing system, defined by ...\n",
    "- an **initial sequence** of characters,\n",
    "- which is rewritten each time step with a given **set of rules**"
   ]
  },
  {
   "cell_type": "markdown",
   "id": "4def6447",
   "metadata": {},
   "source": [
    "An easy way to visualise a cellular automaton is an **infinite checkerboard**, with each cell\n",
    "of the board having a defined state (e.g. `0` or `1`).\n",
    "\n",
    "Then, a set of rules is applied, which predict the state of the cells in the nect iteration.\n",
    "These rules are often depending in the state of the neighborhood (red) of a cell (light blue), e.g.\n",
    "- **Moore** neighborhood,\n",
    "- **von Neumann** neighborhood.\n",
    "\n",
    "<img src=\"images/Moore_von_Neumann_neighborhood.jpg\">"
   ]
  },
  {
   "cell_type": "markdown",
   "id": "223f969a-594c-4264-b981-a51ae63c7017",
   "metadata": {},
   "source": [
    "----"
   ]
  }
 ],
 "metadata": {
  "kernelspec": {
   "display_name": "Python 3 (ipykernel)",
   "language": "python",
   "name": "python3"
  },
  "language_info": {
   "codemirror_mode": {
    "name": "ipython",
    "version": 3
   },
   "file_extension": ".py",
   "mimetype": "text/x-python",
   "name": "python",
   "nbconvert_exporter": "python",
   "pygments_lexer": "ipython3",
   "version": "3.11.3"
  }
 },
 "nbformat": 4,
 "nbformat_minor": 5
}
