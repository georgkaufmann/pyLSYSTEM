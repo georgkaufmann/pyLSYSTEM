{
 "cells": [
  {
   "cell_type": "markdown",
   "id": "50b454b6",
   "metadata": {},
   "source": [
    "<table>\n",
    "<tr><td><img style=\"height: 150px;\" src=\"images/geo_hydro1.jpg\"></td>\n",
    "<td bgcolor=\"#FFFFFF\">\n",
    "    <p style=\"font-size: xx-large; font-weight: 900; line-height: 100%\">pyLSYSTEM</p>\n",
    "    <p style=\"font-size: large; color: rgba(0,0,0,0.5);\"><b style=color:red;>LINDENMAYER</b> systems</p>\n",
    "    <p style=\"font-size: large; color: rgba(0,0,0,0.5);\">Georg Kaufmann</p>\n",
    "    </td>\n",
    "<td><img style=\"height: 150px;\" src=\"images/pyLSYSTEM.png\"></td>\n",
    "</tr>\n",
    "</table>"
   ]
  },
  {
   "cell_type": "markdown",
   "id": "f4e4c7f9",
   "metadata": {},
   "source": [
    "# L-systems: Drawing\n",
    "----\n",
    "In this notebook, we introduce the translation of the **L system** alphabet into a graphical representation."
   ]
  },
  {
   "cell_type": "code",
   "execution_count": 13,
   "id": "48125697",
   "metadata": {
    "tags": []
   },
   "outputs": [],
   "source": [
    "import numpy as np\n",
    "import matplotlib.pyplot as plt\n",
    "import matplotlib.ticker as ticker\n",
    "import libLSYSTEM"
   ]
  },
  {
   "cell_type": "markdown",
   "id": "94f1ea38-1045-4726-a1f6-a60d2439d142",
   "metadata": {},
   "source": [
    "We then create a function `lsystemCreate`, which takes a `word` and a set of `rules`,\n",
    "then applies the `rules` to each letter of the `word` and returns the updated word\n",
    "as `newword`.\n"
   ]
  },
  {
   "cell_type": "markdown",
   "id": "aff29356",
   "metadata": {},
   "source": [
    "----\n",
    "## Drawing L systems\n",
    "\n",
    "The character sequences resulting from an L system iteration can be used to graphically\n",
    "illustrate the sequence. Often, the following **notation** for the characters is chosen\n",
    "for plotting:\n",
    "\n",
    "|Character |  Meaning                                                  |\n",
    "|----------|:----------------------------------------------------------|\n",
    "|   F      | Move forward by line length drawing a line \n",
    "|   f      | Move forward by line length without drawing a line \n",
    "|   +      | Turn left by turning angle\n",
    "|   -      | Turn right by turning angle\n",
    "|   |      | Reverse direction (ie: turn by 180 degrees)\n",
    "|   [      | Push current drawing state onto stack\n",
    "|   ]      | Pop current drawing state from the stack\n",
    "|   #      | Increment the line width by line width increment\n",
    "|   !      | Decrement the line width by line width increment\n",
    "|   @      | Draw a dot with line width radius\n",
    "|   {      | Open a polygon\n",
    "|   }      | Close a polygon and fill it with fill colour\n",
    "|   >      | Multiply the line length by the line length scale factor\n",
    "|   <      | Divide the line length by the line length scale factor\n",
    "|   &      | Swap the meaning of + and -\n",
    "|   (      | Decrement turning angle by turning angle increment\n",
    "|   )      | Increment turning angle by turning angle increment"
   ]
  },
  {
   "cell_type": "markdown",
   "id": "50b9d2ba",
   "metadata": {},
   "source": [
    "----\n",
    "## Example: Linear path\n",
    "We define a starting word, and a simple set of rules, and perform one interation."
   ]
  },
  {
   "cell_type": "code",
   "execution_count": 20,
   "id": "d6839392",
   "metadata": {
    "tags": []
   },
   "outputs": [
    {
     "name": "stdout",
     "output_type": "stream",
     "text": [
      "0 X\n",
      "1 FFF-F-F+FF\n"
     ]
    }
   ],
   "source": [
    "word = 'X'\n",
    "print(0,word)\n",
    "rules = {'X':'FFF-F-F+FF' \n",
    "        }\n",
    "\n",
    "iter=1\n",
    "word = libLSYSTEM.lsystemIterate(word,rules,iter=iter)\n",
    "print(iter,word)"
   ]
  },
  {
   "cell_type": "markdown",
   "id": "64766fe2-af77-4608-9c2d-59c68ff20552",
   "metadata": {},
   "source": [
    "The resulting word `FFF-F-F+FF` means, in plotting terms,\n",
    "- move forward three times\n",
    "- turn right\n",
    "- move forward one time\n",
    "- turn right\n",
    "- move forward one time\n",
    "- turn left\n",
    "- move forward two times\n",
    "\n",
    "We define a length `length` and an angle `angle` and create a plotting function ..."
   ]
  },
  {
   "cell_type": "code",
   "execution_count": 21,
   "id": "bb50e64d-d121-45d3-93f2-915e9dfd79a7",
   "metadata": {
    "tags": []
   },
   "outputs": [],
   "source": [
    "def lsystemPlot(word,length=0.2,angle=90.,x=0,y=0,d=90,showDot=False,linewidth=1):\n",
    "    \"\"\"\n",
    "    L-system\n",
    "    Plot final word following rules defined for moving the cursor\n",
    "    Input:\n",
    "    word   - input string\n",
    "    length - length of forward step\n",
    "    angle  - angle to turn\n",
    "    x,y,d  - initial position and view angle\n",
    "    Output:\n",
    "    (plot)\n",
    "    \"\"\"\n",
    "    d2r = np.pi / 180.\n",
    "    ax = plt.axes()\n",
    "    #ax.set_xlim([-10,10])\n",
    "    #ax.set_ylim([-10,10])\n",
    "    ax.grid()\n",
    "    ax.xaxis.set_major_locator(ticker.NullLocator())\n",
    "    ax.yaxis.set_major_locator(ticker.NullLocator())\n",
    "    ax.set_aspect('equal', 'box')\n",
    "    # define empty stack\n",
    "    stack = []\n",
    "    # loop over letters in word\n",
    "    for letter in word:\n",
    "        if letter in [\"F\", \"G\", \"R\", \"L\"]:\n",
    "            xfrom=x;yfrom=y;\n",
    "            x = xfrom + length*np.cos(d*d2r)\n",
    "            y = yfrom + length*np.sin(d*d2r)\n",
    "            ax.plot([xfrom,x],[yfrom,y],lw=linewidth,color='brown')\n",
    "            if (showDot): ax.plot(x,y,lw=0,marker='.',markersize=10,color='black')\n",
    "        elif letter == \"f\":\n",
    "            x = xfrom + length*np.cos(d*d2r)\n",
    "            y = yfrom + length*np.sin(d*d2r)\n",
    "        elif letter == \"+\":\n",
    "            d += angle\n",
    "        elif letter == \"-\":\n",
    "            d -= angle\n",
    "        elif letter == \"[\":\n",
    "            stack.append([x,y,d])\n",
    "        elif letter == \"]\":\n",
    "            [x,y,d] = stack.pop()\n",
    "    return"
   ]
  },
  {
   "cell_type": "code",
   "execution_count": 22,
   "id": "d07cd193-3dc4-4777-9e21-13a870454956",
   "metadata": {
    "tags": []
   },
   "outputs": [
    {
     "data": {
      "image/png": "[encoded data removed]",
      "text/plain": [
       "<Figure size 640x480 with 1 Axes>"
      ]
     },
     "metadata": {},
     "output_type": "display_data"
    }
   ],
   "source": [
    "lsystemPlot(word,showDot=True,linewidth=2)"
   ]
  },
  {
   "cell_type": "markdown",
   "id": "a2c18370-1180-40b2-8a65-783a88ad0874",
   "metadata": {},
   "source": [
    "----\n",
    "## Example: Branching path"
   ]
  },
  {
   "cell_type": "code",
   "execution_count": 29,
   "id": "326247e1-af02-43d2-a495-19c5db483306",
   "metadata": {
    "tags": []
   },
   "outputs": [
    {
     "name": "stdout",
     "output_type": "stream",
     "text": [
      "0 X\n",
      "1 FFF-F-F[F+F]+FF\n"
     ]
    },
    {
     "data": {
      "image/png": "[encoded data removed]",
      "text/plain": [
       "<Figure size 640x480 with 1 Axes>"
      ]
     },
     "metadata": {},
     "output_type": "display_data"
    }
   ],
   "source": [
    "word = 'X'\n",
    "print(0,word)\n",
    "rules = {'X':'FFF-F-F[F+F]+FF' \n",
    "        }\n",
    "\n",
    "word = libLSYSTEM.lsystemIterate(word,rules,iter=1)\n",
    "print(iter,word)\n",
    "\n",
    "lsystemPlot(word,angle=90,showDot=True,linewidth=2)"
   ]
  },
  {
   "cell_type": "code",
   "execution_count": 30,
   "id": "5f380c8a",
   "metadata": {
    "tags": []
   },
   "outputs": [
    {
     "name": "stdout",
     "output_type": "stream",
     "text": [
      "0 X\n",
      "1 F[+F][-F[-F]F]F[+F][-F]\n"
     ]
    },
    {
     "data": {
      "image/png": "[encoded data removed]",
      "text/plain": [
       "<Figure size 640x480 with 1 Axes>"
      ]
     },
     "metadata": {},
     "output_type": "display_data"
    }
   ],
   "source": [
    "word = 'X'\n",
    "print(0,word)\n",
    "rules = {'X':'F[+F][-F[-F]F]F[+F][-F]' \n",
    "        }\n",
    "\n",
    "word = libLSYSTEM.lsystemIterate(word,rules,iter=1)\n",
    "print(iter,word)\n",
    "\n",
    "lsystemPlot(word,angle=45,showDot=True,linewidth=2)"
   ]
  },
  {
   "cell_type": "markdown",
   "id": "ba5565da-0951-411a-ac6b-a577f25f5732",
   "metadata": {},
   "source": [
    "Now we are ready to create more complicated L-systems!"
   ]
  }
 ],
 "metadata": {
  "kernelspec": {
   "display_name": "Python 3 (ipykernel)",
   "language": "python",
   "name": "python3"
  },
  "language_info": {
   "codemirror_mode": {
    "name": "ipython",
    "version": 3
   },
   "file_extension": ".py",
   "mimetype": "text/x-python",
   "name": "python",
   "nbconvert_exporter": "python",
   "pygments_lexer": "ipython3",
   "version": "3.11.3"
  }
 },
 "nbformat": 4,
 "nbformat_minor": 5
}
