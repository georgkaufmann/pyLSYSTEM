{
 "cells": [
  {
   "cell_type": "markdown",
   "id": "82c88ffc",
   "metadata": {},
   "source": [
    "<table>\n",
    "<tr><td><img style=\"height: 150px;\" src=\"images/geo_hydro1.jpg\"></td>\n",
    "<td bgcolor=\"#FFFFFF\">\n",
    "    <p style=\"font-size: xx-large; font-weight: 900; line-height: 100%\">pyLSYSTEM</p>\n",
    "    <p style=\"font-size: large; color: rgba(0,0,0,0.5);\"><b style=color:red;>LINDENMAYER</b> systems</p>\n",
    "    <p style=\"font-size: large; color: rgba(0,0,0,0.5);\">Georg Kaufmann</p>\n",
    "    </td>\n",
    "<td><img style=\"height: 150px;\" src=\"images/pyLSYSTEM.png\"></td>\n",
    "</tr>\n",
    "</table>"
   ]
  },
  {
   "cell_type": "markdown",
   "id": "4e290f08",
   "metadata": {},
   "source": [
    "# Simple cellular automaton\n",
    "----\n",
    "\n",
    "In this notebook, we start creating a first simple, one-dimensional cellular automaton\n",
    "with a simple rule.\n",
    "\n"
   ]
  },
  {
   "cell_type": "code",
   "execution_count": 1,
   "id": "84f49e55",
   "metadata": {},
   "outputs": [],
   "source": [
    "import numpy as np\n",
    "import matplotlib.pyplot as plt\n",
    "from matplotlib.colors import ListedColormap\n",
    "cmap_bold = ListedColormap(['#FF0000', '#00FF00', '#0000FF'])"
   ]
  },
  {
   "cell_type": "markdown",
   "id": "4def6447",
   "metadata": {},
   "source": [
    "----\n",
    "## Definition\n",
    "\n",
    "We first define the term **cellular automaton**:\n",
    "~~~\n",
    "A cellular automaton is a model consisting of cells, which can have a discrete set of states.\n",
    "Cellular automata are often used to describe simple processes in physics, in chemistry, and\n",
    "in biology.\n",
    "~~~\n",
    "\n",
    "An easy way to visualise a cellular automaton is an **infinite checkerboard**, with each cell\n",
    "of the board having a defined state (e.g. `0` or `1`).\n",
    "\n",
    "Then, a set of rules is applied, which predict the state of the cells in the nect iteration.\n",
    "These rules are often depending in the state of the neighborhood (red) of a cell (light blue), e.g.\n",
    "- **Moore** neighborhood,\n",
    "- **von Neumann** neighborhood.\n",
    "\n",
    "<img src=\"images/Moore_von_Neumann_neighborhood.jpg\">"
   ]
  },
  {
   "cell_type": "markdown",
   "id": "3d18ba3e",
   "metadata": {},
   "source": [
    "----\n",
    "## Initial setup\n",
    "We first write  a setup function `cellularAutomatonSetup`, in which:\n",
    "- We define a first row of $nx$ elements, which can have either the state `0` or `1`:\n",
    "- We create the first row , using the `np.zeros`routine, thus filling it with `0`.\n",
    "- As the first row is part of a larger grid, we use  the `reshape` function to create a matrix, which we can enlarge later.\n",
    "- We set one (or more) points in the row to state `1`."
   ]
  },
  {
   "cell_type": "code",
   "execution_count": 2,
   "id": "54a4cc15-53d7-48f6-b4da-a1b08342025e",
   "metadata": {
    "tags": []
   },
   "outputs": [],
   "source": [
    "def cellularAutomatonSetup(nx=101):\n",
    "    \"\"\"\n",
    "    setup of initial step for 1D cellular automaton\n",
    "    input:\n",
    "        nx - grid dimension\n",
    "    returns:\n",
    "        grid - 1D array of initial state, holding zeros and at one position 1 as initial seed\n",
    "    \"\"\"\n",
    "    # set all cells to state 0\n",
    "    grid = np.zeros(nx,dtype=int).reshape(1,nx)\n",
    "    # set one cell to state 1\n",
    "    grid[0,int(nx/2)] = 1\n",
    "    #grid[0,0] = 1\n",
    "    return grid"
   ]
  },
  {
   "cell_type": "code",
   "execution_count": 3,
   "id": "0ed163ac",
   "metadata": {},
   "outputs": [
    {
     "name": "stdout",
     "output_type": "stream",
     "text": [
      "(1, 57)\n"
     ]
    }
   ],
   "source": [
    "grid = cellularAutomatonSetup(nx=57)\n",
    "print(grid.shape)"
   ]
  },
  {
   "cell_type": "markdown",
   "id": "57912b2c-69dc-4049-923e-215ac3008f15",
   "metadata": {},
   "source": [
    "We then plot the first row, using the `imshow` routine from the `matplotlib` package."
   ]
  },
  {
   "cell_type": "code",
   "execution_count": 4,
   "id": "20394cda-f1b2-47b1-8b32-7e8502f61c48",
   "metadata": {
    "tags": []
   },
   "outputs": [],
   "source": [
    "def cellularAutomatonPlot(grid):\n",
    "    \"\"\"\n",
    "    plot of 1D cellular automaton\n",
    "    input:\n",
    "        grid - 2D array of states 0 and 1\n",
    "        nx - grid dimension\n",
    "    returns:\n",
    "       (none)\n",
    "    \"\"\"\n",
    "    fig,ax=plt.subplots(figsize=(10,10)) \n",
    "    plt.setp(ax.get_xticklabels(), visible=False)\n",
    "    plt.setp(ax.get_yticklabels(), visible=False)\n",
    "    ax.tick_params(axis='both', which='both', length=0)\n",
    "    plt.imshow(grid,vmin=0,vmax=1,interpolation='none',cmap='viridis')\n",
    "    return"
   ]
  },
  {
   "cell_type": "code",
   "execution_count": 5,
   "id": "7847ed61",
   "metadata": {},
   "outputs": [
    {
     "data": {
      "image/png": "[encoded data removed]",
      "text/plain": [
       "<Figure size 1000x1000 with 1 Axes>"
      ]
     },
     "metadata": {},
     "output_type": "display_data"
    }
   ],
   "source": [
    "grid = cellularAutomatonSetup(nx=57)\n",
    "cellularAutomatonPlot(grid)"
   ]
  },
  {
   "cell_type": "markdown",
   "id": "346f71c0",
   "metadata": {},
   "source": [
    "----\n",
    "## Update rule\n",
    "We then write an update function `cellularAutomatonUpdate` to update the row by creating a second row, using a simple algorithm:\n",
    "\n",
    "- We look at both the **left** and **right** neighbors of each point:\n",
    "    - If both neighbours are `0`, the element in the new row is also `0`.\n",
    "    - If both neighbours are `1`, the element in the new row is `0`.\n",
    "    - If one neighbor is `0`, one is `1`, the element in the new row is `1`.\n",
    "    \n",
    "<img style=\"width:12cm;\" src=\"images/lsystemRule.jpg\">\n",
    "\n",
    "We achieve this task by creating two new 1D arrays, `shift_left` and `shift_right`,\n",
    "using the `roll` function from `numpy`. Depending on the type of boundary condition, we ...\n",
    "- either leave these two arrays: cyclic boundary condition\n",
    "- or re-set the edges to zero: non-cyclic boundary condition\n",
    "\n",
    "We then sum up both `shift_left` and `shift_right`, and check the resulting number with\n",
    "a `where` clause from the `numpy` package:\n",
    "- sum=0: new state is `0`\n",
    "- sum=1: new state is `1`\n",
    "- sum=2: new state is `0`\n",
    "\n",
    "We then add the new row, stored in the 1D array `newrow`, to the 2D array `grid`,\n",
    "using the `vstack` function from `numpy`."
   ]
  },
  {
   "cell_type": "code",
   "execution_count": 6,
   "id": "afd587ea",
   "metadata": {},
   "outputs": [
    {
     "name": "stdout",
     "output_type": "stream",
     "text": [
      "(2, 57)\n"
     ]
    },
    {
     "data": {
      "image/png": "[encoded data removed]",
      "text/plain": [
       "<Figure size 1000x1000 with 1 Axes>"
      ]
     },
     "metadata": {},
     "output_type": "display_data"
    }
   ],
   "source": [
    "def cellularAutomatonUpdate(grid):\n",
    "    \"\"\"\n",
    "    Update a grid of points with states 0 and 1 by a specific update rule\n",
    "    \"\"\"\n",
    "    nx = grid.shape[1]\n",
    "    # shift with rolling over edge\n",
    "    shift_left = np.roll(grid[grid.shape[0]-1,:],-1)\n",
    "    shift_right = np.roll(grid[grid.shape[0]-1,:],+1)\n",
    "    # shift without rolling over edge\n",
    "    shift_left[nx-1] = 0\n",
    "    shift_right[0] = 0\n",
    "    newrow = np.where((shift_left + shift_right)==1,1,0)\n",
    "    grid = np.vstack((grid,newrow))\n",
    "    return grid\n",
    "\n",
    "\n",
    "grid = cellularAutomatonUpdate(grid)\n",
    "print(grid.shape)\n",
    "cellularAutomatonPlot(grid)"
   ]
  },
  {
   "cell_type": "markdown",
   "id": "bed2e1a2-3255-4169-8766-90204d325443",
   "metadata": {},
   "source": [
    "We apply the function `cellularAutomatonUpdate`  several times:"
   ]
  },
  {
   "cell_type": "code",
   "execution_count": 7,
   "id": "394f04ee-2ee5-4112-ac5d-c8fcddd9efe6",
   "metadata": {
    "tags": []
   },
   "outputs": [
    {
     "data": {
      "image/png": "[encoded data removed]",
      "text/plain": [
       "<Figure size 1000x1000 with 1 Axes>"
      ]
     },
     "metadata": {},
     "output_type": "display_data"
    },
    {
     "data": {
      "image/png": "[encoded data removed]",
      "text/plain": [
       "<Figure size 1000x1000 with 1 Axes>"
      ]
     },
     "metadata": {},
     "output_type": "display_data"
    },
    {
     "data": {
      "image/png": "[encoded data removed]",
      "text/plain": [
       "<Figure size 1000x1000 with 1 Axes>"
      ]
     },
     "metadata": {},
     "output_type": "display_data"
    },
    {
     "data": {
      "image/png": "[encoded data removed]",
      "text/plain": [
       "<Figure size 1000x1000 with 1 Axes>"
      ]
     },
     "metadata": {},
     "output_type": "display_data"
    }
   ],
   "source": [
    "for i in range(4):\n",
    "    grid = cellularAutomatonUpdate(grid)\n",
    "    cellularAutomatonPlot(grid)"
   ]
  },
  {
   "cell_type": "markdown",
   "id": "6015ea2c",
   "metadata": {},
   "source": [
    "----\n",
    "## Example\n",
    "We repeat these steps a pre-defined number of times, and then plot the resulting larger `grid` array ..."
   ]
  },
  {
   "cell_type": "code",
   "execution_count": 8,
   "id": "12095a73-cc9a-43c9-a821-ad3cf718cbc1",
   "metadata": {},
   "outputs": [
    {
     "name": "stdout",
     "output_type": "stream",
     "text": [
      "(1, 257)\n"
     ]
    },
    {
     "data": {
      "image/png": "[encoded data removed]",
      "text/plain": [
       "<Figure size 1000x1000 with 1 Axes>"
      ]
     },
     "metadata": {},
     "output_type": "display_data"
    },
    {
     "data": {
      "image/png": "[encoded data removed]",
      "text/plain": [
       "<Figure size 1000x1000 with 1 Axes>"
      ]
     },
     "metadata": {},
     "output_type": "display_data"
    }
   ],
   "source": [
    "nx = 257\n",
    "grid=cellularAutomatonSetup(nx=nx)\n",
    "print(grid.shape)\n",
    "cellularAutomatonPlot(grid)\n",
    "\n",
    "nsteps = 300\n",
    "for i in range(nsteps):\n",
    "    grid = cellularAutomatonUpdate(grid)\n",
    "\n",
    "cellularAutomatonPlot(grid)"
   ]
  },
  {
   "cell_type": "markdown",
   "id": "e1c1d2ef",
   "metadata": {},
   "source": [
    "----\n",
    "## Another example ..."
   ]
  },
  {
   "cell_type": "code",
   "execution_count": 10,
   "id": "a9f93298",
   "metadata": {},
   "outputs": [
    {
     "name": "stdout",
     "output_type": "stream",
     "text": [
      "(1, 513)\n"
     ]
    },
    {
     "data": {
      "image/png": "[encoded data removed]",
      "text/plain": [
       "<Figure size 1000x1000 with 1 Axes>"
      ]
     },
     "metadata": {},
     "output_type": "display_data"
    },
    {
     "data": {
      "image/png": "[encoded data removed]",
      "text/plain": [
       "<Figure size 1000x1000 with 1 Axes>"
      ]
     },
     "metadata": {},
     "output_type": "display_data"
    }
   ],
   "source": [
    "nx = 513\n",
    "grid=cellularAutomatonSetup(nx=nx)\n",
    "grid[0,0] = 1\n",
    "print(grid.shape)\n",
    "cellularAutomatonPlot(grid)\n",
    "\n",
    "nsteps = 300\n",
    "for i in range(nsteps):\n",
    "    grid = cellularAutomatonUpdate(grid)\n",
    "\n",
    "cellularAutomatonPlot(grid)"
   ]
  },
  {
   "cell_type": "markdown",
   "id": "46db461b",
   "metadata": {},
   "source": [
    "... done"
   ]
  }
 ],
 "metadata": {
  "kernelspec": {
   "display_name": "Python 3 (ipykernel)",
   "language": "python",
   "name": "python3"
  },
  "language_info": {
   "codemirror_mode": {
    "name": "ipython",
    "version": 3
   },
   "file_extension": ".py",
   "mimetype": "text/x-python",
   "name": "python",
   "nbconvert_exporter": "python",
   "pygments_lexer": "ipython3",
   "version": "3.11.3"
  }
 },
 "nbformat": 4,
 "nbformat_minor": 5
}
